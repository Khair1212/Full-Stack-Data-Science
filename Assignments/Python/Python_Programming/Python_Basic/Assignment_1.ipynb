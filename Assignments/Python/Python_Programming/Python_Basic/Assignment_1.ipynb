{
 "cells": [
  {
   "cell_type": "markdown",
   "id": "fefcd66b",
   "metadata": {},
   "source": [
    "# 1.\tWrite a Python program to print \"Hello Python\"?"
   ]
  },
  {
   "cell_type": "code",
   "execution_count": 1,
   "id": "e79e58f5",
   "metadata": {},
   "outputs": [
    {
     "name": "stdout",
     "output_type": "stream",
     "text": [
      "Hello Python\n"
     ]
    }
   ],
   "source": [
    "print('Hello Python')"
   ]
  },
  {
   "cell_type": "markdown",
   "id": "1430c0f4",
   "metadata": {},
   "source": [
    "# 2.\tWrite a Python program to do arithmetical operations addition and division.?"
   ]
  },
  {
   "cell_type": "code",
   "execution_count": 2,
   "id": "aac88023",
   "metadata": {},
   "outputs": [
    {
     "name": "stdout",
     "output_type": "stream",
     "text": [
      "3 2.0\n"
     ]
    }
   ],
   "source": [
    "a = 1 + 2\n",
    "b = 4/2\n",
    "print(a, b)"
   ]
  },
  {
   "cell_type": "markdown",
   "id": "17325e6c",
   "metadata": {},
   "source": [
    "# 3.\tWrite a Python program to find the area of a triangle?"
   ]
  },
  {
   "cell_type": "code",
   "execution_count": 4,
   "id": "b1ab23bf",
   "metadata": {},
   "outputs": [
    {
     "name": "stdout",
     "output_type": "stream",
     "text": [
      "area: 30\n"
     ]
    }
   ],
   "source": [
    "a = 5\n",
    "b  = 6\n",
    "area = a * b\n",
    "print(\"area:\", area)"
   ]
  },
  {
   "cell_type": "markdown",
   "id": "02663c78",
   "metadata": {},
   "source": [
    "# 4.\tWrite a Python program to swap two variables?"
   ]
  },
  {
   "cell_type": "code",
   "execution_count": 7,
   "id": "3d8b3388",
   "metadata": {},
   "outputs": [
    {
     "name": "stdout",
     "output_type": "stream",
     "text": [
      "before: a= 7 b= 8\n",
      "after: a 8 b= 8\n"
     ]
    }
   ],
   "source": [
    "a = 7\n",
    "b = 8\n",
    "\n",
    "print(\"before: a=\", a, \"b=\", b)\n",
    "temp = a \n",
    "a = b\n",
    "b = a \n",
    "print(\"after: a\", a, \"b=\", b)"
   ]
  }
 ],
 "metadata": {
  "kernelspec": {
   "display_name": "Python 3",
   "language": "python",
   "name": "python3"
  },
  "language_info": {
   "codemirror_mode": {
    "name": "ipython",
    "version": 3
   },
   "file_extension": ".py",
   "mimetype": "text/x-python",
   "name": "python",
   "nbconvert_exporter": "python",
   "pygments_lexer": "ipython3",
   "version": "3.8.8"
  }
 },
 "nbformat": 4,
 "nbformat_minor": 5
}
