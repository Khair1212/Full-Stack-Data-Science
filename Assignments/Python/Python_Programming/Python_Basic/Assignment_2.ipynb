{
 "cells": [
  {
   "cell_type": "markdown",
   "id": "21057d57",
   "metadata": {},
   "source": [
    "# 1.\tWrite a Python program to convert kilometers to miles?"
   ]
  },
  {
   "cell_type": "code",
   "execution_count": 1,
   "id": "bc67ba73",
   "metadata": {},
   "outputs": [
    {
     "name": "stdout",
     "output_type": "stream",
     "text": [
      "7 km is  4.34959 in miles\n"
     ]
    }
   ],
   "source": [
    "a = 7\n",
    "\n",
    "print(a, 'km is ', a * 0.62137, \"in miles\")"
   ]
  },
  {
   "cell_type": "markdown",
   "id": "bf51deb0",
   "metadata": {},
   "source": [
    "# 2.\tWrite a Python program to convert Celsius to Fahrenheit?"
   ]
  },
  {
   "cell_type": "code",
   "execution_count": 5,
   "id": "f41f23ce",
   "metadata": {},
   "outputs": [
    {
     "name": "stdout",
     "output_type": "stream",
     "text": [
      "10 Celsius =  50.0  Farhenheit\n"
     ]
    }
   ],
   "source": [
    "celc = 10\n",
    "farh = 9.0/5.0 * celc + 32\n",
    "print(celc, \"Celsius = \", farh, \" Farhenheit\")"
   ]
  },
  {
   "cell_type": "markdown",
   "id": "9023aeb2",
   "metadata": {},
   "source": [
    "# 3.\tWrite a Python program to display calendar?"
   ]
  },
  {
   "cell_type": "code",
   "execution_count": 11,
   "id": "0450e51e",
   "metadata": {},
   "outputs": [
    {
     "name": "stdout",
     "output_type": "stream",
     "text": [
      "   December 2019\n",
      "Mo Tu We Th Fr Sa Su\n",
      "                   1\n",
      " 2  3  4  5  6  7  8\n",
      " 9 10 11 12 13 14 15\n",
      "16 17 18 19 20 21 22\n",
      "23 24 25 26 27 28 29\n",
      "30 31\n",
      "\n"
     ]
    }
   ],
   "source": [
    "import calendar\n",
    "\n",
    "yy = 2019\n",
    "mm = 12\n",
    "\n",
    "print(calendar.month(yy,mm))"
   ]
  },
  {
   "cell_type": "markdown",
   "id": "c0799d10",
   "metadata": {},
   "source": [
    "# 4.\tWrite a Python program to solve quadratic equation?"
   ]
  },
  {
   "cell_type": "code",
   "execution_count": 14,
   "id": "1cf437aa",
   "metadata": {},
   "outputs": [
    {
     "name": "stdout",
     "output_type": "stream",
     "text": [
      " real and different roots \n",
      "2.0\n",
      "-12.0\n"
     ]
    }
   ],
   "source": [
    "import math \n",
    "  \n",
    "  \n",
    "\n",
    "def equationroots( a, b, c): \n",
    "  \n",
    "    # calculating discriminant using formula\n",
    "    dis = b * b - 4 * a * c \n",
    "    sqrt_val = math.sqrt(abs(dis)) \n",
    "      \n",
    "    # checking condition for discriminant\n",
    "    if dis > 0: \n",
    "        print(\" real and different roots \") \n",
    "        print((-b + sqrt_val)/(2 * a)) \n",
    "        print((-b - sqrt_val)/(2 * a)) \n",
    "      \n",
    "    elif dis == 0: \n",
    "        print(\" real and same roots\") \n",
    "        print(-b / (2 * a)) \n",
    "      \n",
    "    # when discriminant is less than 0\n",
    "    else:\n",
    "        print(\"Complex Roots\") \n",
    "        print(- b / (2 * a), \" + i\", sqrt_val) \n",
    "        print(- b / (2 * a), \" - i\", sqrt_val) \n",
    "  \n",
    "a = 1\n",
    "b = 10\n",
    "c = -24\n",
    "  \n",
    "# If a is 0, then incorrect equation\n",
    "if a == 0: \n",
    "        print(\"Input correct quadratic equation\")   \n",
    "else:\n",
    "    equationroots(a, b, c)"
   ]
  },
  {
   "cell_type": "markdown",
   "id": "e4ffe837",
   "metadata": {},
   "source": [
    "# 5.\tWrite a Python program to swap two variables without temp variable?"
   ]
  },
  {
   "cell_type": "code",
   "execution_count": null,
   "id": "6d6c24f0",
   "metadata": {},
   "outputs": [],
   "source": [
    "a = "
   ]
  }
 ],
 "metadata": {
  "kernelspec": {
   "display_name": "Python 3",
   "language": "python",
   "name": "python3"
  },
  "language_info": {
   "codemirror_mode": {
    "name": "ipython",
    "version": 3
   },
   "file_extension": ".py",
   "mimetype": "text/x-python",
   "name": "python",
   "nbconvert_exporter": "python",
   "pygments_lexer": "ipython3",
   "version": "3.8.8"
  }
 },
 "nbformat": 4,
 "nbformat_minor": 5
}
