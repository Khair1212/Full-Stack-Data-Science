{
 "cells": [
  {
   "cell_type": "markdown",
   "id": "9e63729f",
   "metadata": {},
   "source": [
    "# 1.\tWrite a Python Program to Check if a Number is Positive, Negative or Zero?\n"
   ]
  },
  {
   "cell_type": "code",
   "execution_count": 2,
   "id": "da4c0f04",
   "metadata": {},
   "outputs": [
    {
     "name": "stdout",
     "output_type": "stream",
     "text": [
      "8\n",
      "Positive Number\n"
     ]
    }
   ],
   "source": [
    "number = int(input())\n",
    "\n",
    "if (number >0):\n",
    "    print(\"Positive Number\")\n",
    "elif (number <0):\n",
    "    print(\"Negative Number\")\n",
    "else:\n",
    "    print('Zero')"
   ]
  },
  {
   "cell_type": "markdown",
   "id": "c3cf43dd",
   "metadata": {},
   "source": [
    "# 2.\tWrite a Python Program to Check if a Number is Odd or Even?"
   ]
  },
  {
   "cell_type": "code",
   "execution_count": 4,
   "id": "03c3b3d8",
   "metadata": {},
   "outputs": [
    {
     "name": "stdout",
     "output_type": "stream",
     "text": [
      "8\n",
      "Even\n"
     ]
    }
   ],
   "source": [
    "number = int(input())\n",
    "\n",
    "print(\"Even\" if number%2==0 else 'Odd')"
   ]
  },
  {
   "cell_type": "markdown",
   "id": "726ab2ec",
   "metadata": {},
   "source": [
    "# 3.\tWrite a Python Program to Check Leap Year?"
   ]
  },
  {
   "cell_type": "code",
   "execution_count": 6,
   "id": "0acb76f4",
   "metadata": {},
   "outputs": [
    {
     "name": "stdout",
     "output_type": "stream",
     "text": [
      "2024\n",
      "Leap Year\n"
     ]
    }
   ],
   "source": [
    "number = int(input())\n",
    "\n",
    "print(\"Leap Year\" if number%4==0 else 'Not Leap Year')"
   ]
  },
  {
   "cell_type": "markdown",
   "id": "ba245acf",
   "metadata": {},
   "source": [
    "# 4.\tWrite a Python Program to Check Prime Number?"
   ]
  },
  {
   "cell_type": "code",
   "execution_count": 15,
   "id": "26ddbc54",
   "metadata": {},
   "outputs": [
    {
     "name": "stdout",
     "output_type": "stream",
     "text": [
      "27\n",
      "Not a Prime!\n"
     ]
    }
   ],
   "source": [
    "from math import sqrt \n",
    "\n",
    "number = int(input())\n",
    "\n",
    "if (number > 1):\n",
    "    for i in range(2, int(sqrt(number))+1):\n",
    "        if (number%i)==0:\n",
    "            print(\"Not a Prime!\")\n",
    "            break\n",
    "    else:\n",
    "        print('Prime!')\n",
    "else:\n",
    "    print(\"Not a Prime!\")"
   ]
  },
  {
   "cell_type": "markdown",
   "id": "f52bddf2",
   "metadata": {},
   "source": [
    "# 5.\tWrite a Python Program to Print all Prime Numbers in an Interval of 1-10000?"
   ]
  },
  {
   "cell_type": "code",
   "execution_count": 19,
   "id": "b1a231d7",
   "metadata": {},
   "outputs": [
    {
     "name": "stdout",
     "output_type": "stream",
     "text": [
      "2   3   4   5   6   7   8   "
     ]
    }
   ],
   "source": [
    "from math import sqrt\n",
    "\n",
    "for i in range(1, 100001):\n",
    "    if (i > 1):\n",
    "        for j in range(2, int(sqrt(i))+1):\n",
    "            if (number%j)==0:\n",
    "                break\n",
    "        else:\n",
    "            print(i, \" \", end = \" \")\n"
   ]
  }
 ],
 "metadata": {
  "kernelspec": {
   "display_name": "Python 3",
   "language": "python",
   "name": "python3"
  },
  "language_info": {
   "codemirror_mode": {
    "name": "ipython",
    "version": 3
   },
   "file_extension": ".py",
   "mimetype": "text/x-python",
   "name": "python",
   "nbconvert_exporter": "python",
   "pygments_lexer": "ipython3",
   "version": "3.8.8"
  }
 },
 "nbformat": 4,
 "nbformat_minor": 5
}
