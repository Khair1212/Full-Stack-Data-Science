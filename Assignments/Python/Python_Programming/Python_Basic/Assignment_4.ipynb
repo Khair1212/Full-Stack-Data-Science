{
 "cells": [
  {
   "cell_type": "markdown",
   "id": "2a256a10",
   "metadata": {},
   "source": [
    "# 1.\tWrite a Python Program to Find the Factorial of a Number?"
   ]
  },
  {
   "cell_type": "code",
   "execution_count": 15,
   "id": "e172f939",
   "metadata": {},
   "outputs": [
    {
     "name": "stdout",
     "output_type": "stream",
     "text": [
      "120\n"
     ]
    }
   ],
   "source": [
    "def facto(n):\n",
    "    if (n ==0) or (n ==1):\n",
    "        return 1\n",
    "    else:\n",
    "        return n * facto(n-1)\n",
    "\n",
    "print(facto(5))"
   ]
  },
  {
   "cell_type": "markdown",
   "id": "e6046f51",
   "metadata": {},
   "source": [
    "# 2.\tWrite a Python Program to Display the multiplication Table?"
   ]
  },
  {
   "cell_type": "code",
   "execution_count": 19,
   "id": "62acb60d",
   "metadata": {},
   "outputs": [
    {
     "name": "stdout",
     "output_type": "stream",
     "text": [
      "8\n",
      "8 x 1 = 8\n",
      "8 x 2 = 16\n",
      "8 x 3 = 24\n",
      "8 x 4 = 32\n",
      "8 x 5 = 40\n",
      "8 x 6 = 48\n",
      "8 x 7 = 56\n",
      "8 x 8 = 64\n",
      "8 x 9 = 72\n",
      "8 x 10 = 80\n"
     ]
    }
   ],
   "source": [
    "n = int(input())\n",
    "for i in range(1,11):\n",
    "    print(n, 'x', i, \"=\", n*i)"
   ]
  },
  {
   "cell_type": "markdown",
   "id": "2224170f",
   "metadata": {},
   "source": [
    "# 3.\tWrite a Python Program to Print the Fibonacci sequence?"
   ]
  },
  {
   "cell_type": "code",
   "execution_count": 32,
   "id": "a3629387",
   "metadata": {},
   "outputs": [
    {
     "name": "stdout",
     "output_type": "stream",
     "text": [
      "0 1 1 2 3 5 8 13 21 "
     ]
    }
   ],
   "source": [
    "def fibo_sum(n):\n",
    "    if (n <1 ):\n",
    "        return 0\n",
    "    if (n==1 or n==2):\n",
    "        return 1\n",
    "    else:\n",
    "        return (fibo_sum(n-1) + fibo_sum(n-2))\n",
    "\n",
    "def fibo_seq(n):\n",
    "    if (n<0):\n",
    "        print('Invalie Fibonacci')\n",
    "    n0 = 0\n",
    "    n1 = 1\n",
    "\n",
    "    print(n0, n1, end= \" \")\n",
    "    for i in range(n-2):\n",
    "        n2 = n0+n1\n",
    "        print(n2, end = \" \")\n",
    "        n0 = n1\n",
    "        n1 = n2\n",
    "\n",
    "\n",
    "fibo_seq(9)"
   ]
  },
  {
   "cell_type": "markdown",
   "id": "0b2378f2",
   "metadata": {},
   "source": [
    "# 4.\tWrite a Python Program to Check Armstrong Number?"
   ]
  },
  {
   "cell_type": "code",
   "execution_count": 44,
   "id": "9db7c565",
   "metadata": {},
   "outputs": [
    {
     "name": "stdout",
     "output_type": "stream",
     "text": [
      "153\n",
      "Armstrong Number\n"
     ]
    }
   ],
   "source": [
    "import math\n",
    "\n",
    "n = int(input())\n",
    "\n",
    "calc = 0\n",
    "p = n\n",
    "for i in range(len(str(n))):\n",
    "    s = p % 10\n",
    "    p = math.floor(int(p / 10))\n",
    "    calc = calc + s*s*s\n",
    "    \n",
    "if calc == n:\n",
    "    print('Armstrong Number')\n",
    "else:\n",
    "    print('Not Armstrong')"
   ]
  },
  {
   "cell_type": "markdown",
   "id": "f944273d",
   "metadata": {},
   "source": [
    "# 5.Write a Python Program to Find Armstrong Number in an Interval?"
   ]
  },
  {
   "cell_type": "code",
   "execution_count": 51,
   "id": "0940d545",
   "metadata": {},
   "outputs": [
    {
     "name": "stdout",
     "output_type": "stream",
     "text": [
      "Armstrong Number within (1-10000):  1, 153, 370, 371, 407, "
     ]
    }
   ],
   "source": [
    "import math\n",
    "\n",
    "\n",
    "print(\"Armstrong Number within (1-10000): \", end = \" \")\n",
    "for i in range(1,100001):\n",
    "    calc = 0\n",
    "    p = i\n",
    "    for j in range(len(str(i))):\n",
    "        s = p % 10\n",
    "        p = math.floor(int(p / 10))\n",
    "        calc = calc + s*s*s\n",
    "\n",
    "    if calc == i:\n",
    "        print(i, end  = \", \")\n"
   ]
  },
  {
   "cell_type": "markdown",
   "id": "31b2ccb0",
   "metadata": {},
   "source": [
    "# 6.\tWrite a Python Program to Find the Sum of Natural Numbers?"
   ]
  },
  {
   "cell_type": "code",
   "execution_count": 54,
   "id": "f0f7eb18",
   "metadata": {},
   "outputs": [
    {
     "name": "stdout",
     "output_type": "stream",
     "text": [
      "3\n",
      "6\n",
      "6.0\n"
     ]
    }
   ],
   "source": [
    "num = int(input())\n",
    "sum = 0\n",
    "\n",
    "# for loop\n",
    "for i in range(num+1):\n",
    "    sum = sum+i\n",
    "\n",
    "# using formula \n",
    "def findSum(num): \n",
    "    return num * (num+1) / 2\n",
    "\n",
    "print(sum)\n",
    "print(findSum(num))"
   ]
  }
 ],
 "metadata": {
  "kernelspec": {
   "display_name": "Python 3",
   "language": "python",
   "name": "python3"
  },
  "language_info": {
   "codemirror_mode": {
    "name": "ipython",
    "version": 3
   },
   "file_extension": ".py",
   "mimetype": "text/x-python",
   "name": "python",
   "nbconvert_exporter": "python",
   "pygments_lexer": "ipython3",
   "version": "3.8.8"
  }
 },
 "nbformat": 4,
 "nbformat_minor": 5
}
