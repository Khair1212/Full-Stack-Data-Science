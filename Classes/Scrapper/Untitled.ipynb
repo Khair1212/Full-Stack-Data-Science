{
 "cells": [
  {
   "cell_type": "code",
   "execution_count": null,
   "id": "0e0e9053",
   "metadata": {},
   "outputs": [],
   "source": [
    "1 . Go to a website\n",
    "2. Search for the expected product\n",
    "3. locate review part\n",
    "4. Scrapp all data in local system\n"
   ]
  }
 ],
 "metadata": {
  "kernelspec": {
   "display_name": "Python 3",
   "language": "python",
   "name": "python3"
  },
  "language_info": {
   "codemirror_mode": {
    "name": "ipython",
    "version": 3
   },
   "file_extension": ".py",
   "mimetype": "text/x-python",
   "name": "python",
   "nbconvert_exporter": "python",
   "pygments_lexer": "ipython3",
   "version": "3.8.8"
  }
 },
 "nbformat": 4,
 "nbformat_minor": 5
}
